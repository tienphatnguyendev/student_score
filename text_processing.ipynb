{
 "cells": [
  {
   "cell_type": "code",
   "execution_count": 23,
   "metadata": {},
   "outputs": [],
   "source": [
    "import requests\n",
    "import os\n",
    "import zipfile\n",
    "from io import BytesIO\n",
    "\n",
    "URL = \"https://drive.google.com/uc?export=download&id=1m-GcrsV3yF5FiCCvikjPhEa2uwSOWN5D\"\n",
    "PATH = \"data/raw_data.zip\"\n",
    "EXTRACT_PATH = \"data\"\n",
    "TARGET_FILE = \"raw_data.txt\"\n",
    "\n",
    "def fetch_data(url=URL, path=PATH, extract_path=EXTRACT_PATH, target_file=TARGET_FILE):\n",
    "    if not os.path.isdir(extract_path):\n",
    "        os.makedirs(extract_path)\n",
    "\n",
    "    print(\"Downloading file...\")\n",
    "    response = requests.get(url, stream=True)\n",
    "    with open(path, 'wb') as zip_file:\n",
    "        for chunk in response.iter_content(chunk_size=128):\n",
    "            zip_file.write(chunk)\n",
    "\n",
    "    print(\"Extracting contents...\")\n",
    "    with zipfile.ZipFile(path, 'r') as zip_ref:\n",
    "        zip_ref.extract(target_file,path=extract_path)\n",
    "\n",
    "    print(f\"Extraction complete.\")"
   ]
  },
  {
   "cell_type": "code",
   "execution_count": null,
   "metadata": {},
   "outputs": [],
   "source": []
  }
 ],
 "metadata": {
  "kernelspec": {
   "display_name": "base",
   "language": "python",
   "name": "python3"
  },
  "language_info": {
   "codemirror_mode": {
    "name": "ipython",
    "version": 3
   },
   "file_extension": ".py",
   "mimetype": "text/x-python",
   "name": "python",
   "nbconvert_exporter": "python",
   "pygments_lexer": "ipython3",
   "version": "3.11.7"
  },
  "orig_nbformat": 4
 },
 "nbformat": 4,
 "nbformat_minor": 2
}
