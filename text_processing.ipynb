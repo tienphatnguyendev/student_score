{
 "cells": [
  {
   "cell_type": "code",
   "execution_count": 23,
   "metadata": {},
   "outputs": [],
   "source": [
    "import requests\n",
    "import os\n",
    "import zipfile\n",
    "from io import BytesIO\n",
    "\n",
    "URL = \"https://drive.google.com/uc?export=download&id=1m-GcrsV3yF5FiCCvikjPhEa2uwSOWN5D\"\n",
    "PATH = \"data/raw_data.zip\"\n",
    "EXTRACT_PATH = \"data\"\n",
    "TARGET_FILE = \"raw_data.txt\"\n",
    "\n",
    "def fetch_data(url=URL, path=PATH, extract_path=EXTRACT_PATH, target_file=TARGET_FILE):\n",
    "    if not os.path.isdir(extract_path):\n",
    "        os.makedirs(extract_path)\n",
    "\n",
    "    print(\"Downloading file...\")\n",
    "    response = requests.get(url, stream=True)\n",
    "    with open(path, 'wb') as zip_file:\n",
    "        for chunk in response.iter_content(chunk_size=128):\n",
    "            zip_file.write(chunk)\n",
    "\n",
    "    print(\"Extracting contents...\")\n",
    "    with zipfile.ZipFile(path, 'r') as zip_ref:\n",
    "        zip_ref.extract(target_file,path=extract_path)\n",
    "\n",
    "    print(f\"Extraction complete.\")"
   ]
  },
  {
   "cell_type": "code",
   "execution_count": 17,
   "metadata": {},
   "outputs": [],
   "source": [
    "with open('data/raw_data.txt', 'r') as file:\n",
    "    raw_data = file.readline()"
   ]
  },
  {
   "cell_type": "code",
   "execution_count": 18,
   "metadata": {},
   "outputs": [
    {
     "name": "stdout",
     "output_type": "stream",
     "text": [
      "b'<!DOCTYPE html>\\n<html>\\n<head>\\n    <meta charset=\"utf-8\" />\\n    <meta name=\"viewport\" content=\"width=device-width, initial-scale=1.0\">\\n    <title>Show - S\\xe1\\xbb\\x9f Gi\\xc3\\xa1o d\\xe1\\xbb\\xa5c v\\xc3\\xa0 \\xc4\\x90\\xc3\\xa0o t\\xe1\\xba\\xa1o TP HCM</title>\\n    <link href=\"/Content/css?v=Xso9L40tE7BMv39QjIwZA-y7XWNRBA0m2c4mZornwBo1\" rel=\"stylesheet\"/>\\r\\n\\n    <script src=\"/bundles/modernizr?v=wBEWDufH_8Md-Pbioxomt90vm6tJN2Pyy9u9zHtWsPo1\"></script>\\r\\n\\n    <script src=\"/bundles/jquery?v=FVs3ACwOLIVInrAl5sdzR2jrCDmVOWFbZMY6g6Q0ulE1\"></script>\\r\\n\\n    <script src=\"/bundles/bootstrap?v=2Fz3B0iizV2NnnamQFrx-NbYJNTFeBJ2GM05SilbtQU1\"></script>\\r\\n\\n    <script src=\"/bundles/jqueryui\"></script>\\r\\n\\n    <link href=\"/bundles/fonts\" rel=\"stylesheet\"/>\\r\\n\\n   \\r\\n</head>\\r\\n<body>\\r\\n    <nav class=\"navbar navbar-inverse\">\\r\\n        <div class=\"container-fluid\">\\r\\n            <div class=\"navbar-header\">\\r\\n                <img style=\"float:left\" src=\"/Images/Logo_so.png\" width=\"85\" />\\r\\n<div>\\r\\n <label style=\"margin-top: 12px; color: #eeeeee ; font-size: x-large\">TRA C\\xe1\\xbb\\xa8U \\xc4\\x90I\\xe1\\xbb\\x82M</label>   \\r\\n\\t\\t<label style=\"color: #eeeeee ; font-size: medium \">K\\xe1\\xbb\\xb2 THI T\\xe1\\xbb\\x90T NGHI\\xe1\\xbb\\x86P TRUNG H\\xe1\\xbb\\x8cC PH\\xe1\\xbb\\x94 TH\\xc3\\x94NG 2020</label>\\r\\n               \\r\\n               \\r\\n</div>\\r\\n               \\r\\n            </div>\\r\\n           \\r\\n        </div>\\r\\n    </nav>\\r\\n    \\r\\n   \\n    <div class=\"container body-content\" style=\"margin-top:50px\">\\n        \\r\\n\\r\\n\\r\\n\\r\\n\\r\\n    <table style=\"margin-top:50px; border: 1px solid; width:100%\">\\r\\n        <tr>\\r\\n            <td style=\"border: 1px solid ; font-weight: bold \">\\r\\n                H\\xe1\\xbb\\x8d v\\xc3\\xa0 T\\xc3\\xaan\\r\\n            </td>\\r\\n            <td style=\"border: 1px solid ; font-weight: bold\">\\r\\n                Ng\\xc3\\xa0y sinh\\r\\n            </td>\\r\\n            <td style=\"border: 1px solid ; font-weight: bold\">\\r\\n                \\xc4\\x90i\\xe1\\xbb\\x83m thi\\r\\n            </td>\\r\\n           \\r\\n\\r\\n        </tr>\\r\\n\\r\\n        <tr>\\r\\n            <td style=\"border: 1px solid\">\\r\\n                PH\\xe1\\xba\\xa0M HO&#192;NG H\\xc6\\xaf\\xc6\\xa0NG &#193;I\\r\\n            </td>\\r\\n            <td style=\"border: 1px solid\">\\r\\n                04/11/2002\\r\\n            </td>\\r\\n            <td style=\"border: 1px solid\">\\r\\n                To&#225;n:   6.60   Ng\\xe1\\xbb\\xaf v\\xc4\\x83n:   6.25   L\\xe1\\xbb\\x8bch s\\xe1\\xbb\\xad:   5.75   \\xc4\\x90\\xe1\\xbb\\x8ba l&#237;:   7.00   GDCD:   7.25   KHXH: 6.67   Ti\\xe1\\xba\\xbfng Anh:   5.20   \\r\\n            </td>\\r\\n\\r\\n        </tr>\\r\\n\\r\\n    </table>\\r\\n\\r\\n\\r\\n\\r\\n<br />\\r\\n\\r\\n\\r\\n\\n        <br />\\n        \\r\\n  \\r\\n</div>\\n  \\n   \\n    \\n</body>\\n</html>\\n'\n",
      "\n"
     ]
    }
   ],
   "source": [
    "print(raw_data)"
   ]
  },
  {
   "cell_type": "code",
   "execution_count": 84,
   "metadata": {},
   "outputs": [],
   "source": [
    "import re \n",
    "\n",
    "class TextCleaning:\n",
    "    def __init__(self, string):\n",
    "      self.raw_txt = string\n",
    "    def pre_processing(self):\n",
    "      regex = r\"\\\\r|\\\\t|<[^>]+>|^\\s+|\\s+$\"\n",
    "      cleaned_txt = re.sub(r\"\\\\n\", \"\\n\", self.raw_txt)\n",
    "      cleaned_txt = re.sub(regex,'', cleaned_txt, flags=re.MULTILINE)\n",
    "      info_lines= [ line for line in cleaned_txt.split(\"\\n\") if len(line)>0]\n",
    "      return info_lines"
   ]
  },
  {
   "cell_type": "code",
   "execution_count": 85,
   "metadata": {},
   "outputs": [
    {
     "data": {
      "text/plain": [
       "[\"b'\",\n",
       " 'Show - S\\\\xe1\\\\xbb\\\\x9f Gi\\\\xc3\\\\xa1o d\\\\xe1\\\\xbb\\\\xa5c v\\\\xc3\\\\xa0 \\\\xc4\\\\x90\\\\xc3\\\\xa0o t\\\\xe1\\\\xba\\\\xa1o TP HCM',\n",
       " 'TRA C\\\\xe1\\\\xbb\\\\xa8U \\\\xc4\\\\x90I\\\\xe1\\\\xbb\\\\x82M   ',\n",
       " 'K\\\\xe1\\\\xbb\\\\xb2 THI T\\\\xe1\\\\xbb\\\\x90T NGHI\\\\xe1\\\\xbb\\\\x86P TRUNG H\\\\xe1\\\\xbb\\\\x8cC PH\\\\xe1\\\\xbb\\\\x94 TH\\\\xc3\\\\x94NG 2020',\n",
       " 'H\\\\xe1\\\\xbb\\\\x8d v\\\\xc3\\\\xa0 T\\\\xc3\\\\xaan',\n",
       " 'Ng\\\\xc3\\\\xa0y sinh',\n",
       " '\\\\xc4\\\\x90i\\\\xe1\\\\xbb\\\\x83m thi',\n",
       " 'PH\\\\xe1\\\\xba\\\\xa0M HO&#192;NG H\\\\xc6\\\\xaf\\\\xc6\\\\xa0NG &#193;I',\n",
       " '04/11/2002',\n",
       " 'To&#225;n:   6.60   Ng\\\\xe1\\\\xbb\\\\xaf v\\\\xc4\\\\x83n:   6.25   L\\\\xe1\\\\xbb\\\\x8bch s\\\\xe1\\\\xbb\\\\xad:   5.75   \\\\xc4\\\\x90\\\\xe1\\\\xbb\\\\x8ba l&#237;:   7.00   GDCD:   7.25   KHXH: 6.67   Ti\\\\xe1\\\\xba\\\\xbfng Anh:   5.20   ',\n",
       " \"'\"]"
      ]
     },
     "execution_count": 85,
     "metadata": {},
     "output_type": "execute_result"
    }
   ],
   "source": [
    "prep_txt = TextCleaning(raw_data).pre_processing()\n",
    "prep_txt"
   ]
  }
 ],
 "metadata": {
  "kernelspec": {
   "display_name": "base",
   "language": "python",
   "name": "python3"
  },
  "language_info": {
   "codemirror_mode": {
    "name": "ipython",
    "version": 3
   },
   "file_extension": ".py",
   "mimetype": "text/x-python",
   "name": "python",
   "nbconvert_exporter": "python",
   "pygments_lexer": "ipython3",
   "version": "3.9.6"
  },
  "orig_nbformat": 4
 },
 "nbformat": 4,
 "nbformat_minor": 2
}
